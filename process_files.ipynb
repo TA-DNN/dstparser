{
 "cells": [
  {
   "cell_type": "code",
   "execution_count": 26,
   "metadata": {},
   "outputs": [
    {
     "name": "stdout",
     "output_type": "stream",
     "text": [
      "The autoreload extension is already loaded. To reload it, use:\n",
      "  %reload_ext autoreload\n"
     ]
    }
   ],
   "source": [
    "%load_ext autoreload\n",
    "%autoreload 2\n",
    "from read_data import data_files\n",
    "from dst_parsers import parse_dst_file"
   ]
  },
  {
   "cell_type": "code",
   "execution_count": 15,
   "metadata": {},
   "outputs": [],
   "source": [
    "path_01 = \"/ceph/work/SATORI/projects/TA-ASIoP/tasdmc_dstbank/qgsii03proton/080511_230511/noCuts_HiResSpectrum/\""
   ]
  },
  {
   "cell_type": "code",
   "execution_count": 27,
   "metadata": {},
   "outputs": [],
   "source": [
    "path_01 = \"/dicos_ui_home/antonpr/ml/erdmann/generated_data/12_dst_TA/01_run/results/proc\""
   ]
  },
  {
   "cell_type": "code",
   "execution_count": 28,
   "metadata": {},
   "outputs": [],
   "source": [
    "files = data_files(data_dir=path_01, glob_pattern=\"**/DAT*h5\")"
   ]
  },
  {
   "cell_type": "code",
   "execution_count": 29,
   "metadata": {},
   "outputs": [
    {
     "data": {
      "text/plain": [
       "4629"
      ]
     },
     "execution_count": 29,
     "metadata": {},
     "output_type": "execute_result"
    }
   ],
   "source": [
    "len(files)"
   ]
  },
  {
   "cell_type": "code",
   "execution_count": 34,
   "metadata": {},
   "outputs": [],
   "source": [
    "dst_file = \"/ceph/work/SATORI/projects/TA-ASIoP/sdanalysis_2018_TALE_TAx4SingleCT_DM/DAT000015_gea.dat.hrspctr.1850.specCuts.dst.gz\""
   ]
  },
  {
   "cell_type": "code",
   "execution_count": 17,
   "metadata": {},
   "outputs": [
    {
     "ename": "SyntaxError",
     "evalue": "cannot assign to literal here. Maybe you meant '==' instead of '='? (sdanalysis_env.sh, line 4)",
     "output_type": "error",
     "traceback": [
      "\u001b[0;36m  File \u001b[0;32m/ceph/sharedfs/work/SATORI/projects/TA-ASIoP/sdanalysis_2018_TALE_TAx4SingleCT_DM/antonpr/dstparser/src/dstparser/sdanalysis_env.sh:4\u001b[0;36m\u001b[0m\n\u001b[0;31m    if [ \"x${BASH_ARGV[0]}\" = \"x\" ]; then\u001b[0m\n\u001b[0m         ^\u001b[0m\n\u001b[0;31mSyntaxError\u001b[0m\u001b[0;31m:\u001b[0m cannot assign to literal here. Maybe you meant '==' instead of '='?\n"
     ]
    }
   ],
   "source": [
    "%run /ceph/work/SATORI/projects/TA-ASIoP/sdanalysis_2018_TALE_TAx4SingleCT_DM/antonpr/dstparser/src/dstparser/sdanalysis_env.sh"
   ]
  },
  {
   "cell_type": "code",
   "execution_count": 42,
   "metadata": {},
   "outputs": [
    {
     "ename": "IndexError",
     "evalue": "index 0 is out of bounds for axis 0 with size 0",
     "output_type": "error",
     "traceback": [
      "\u001b[0;31m---------------------------------------------------------------------------\u001b[0m",
      "\u001b[0;31mIndexError\u001b[0m                                Traceback (most recent call last)",
      "Cell \u001b[0;32mIn[42], line 1\u001b[0m\n\u001b[0;32m----> 1\u001b[0m data \u001b[38;5;241m=\u001b[39m parse_dst_file(dst_file)\n",
      "File \u001b[0;32m/ceph/sharedfs/work/SATORI/projects/TA-ASIoP/sdanalysis_2018_TALE_TAx4SingleCT_DM/antonpr/dstparser/src/dstparser/dst_parsers.py:293\u001b[0m, in \u001b[0;36mparse_dst_file\u001b[0;34m(dst_file)\u001b[0m\n\u001b[1;32m    291\u001b[0m data \u001b[38;5;241m=\u001b[39m \u001b[38;5;28mdict\u001b[39m()\n\u001b[1;32m    292\u001b[0m data \u001b[38;5;241m=\u001b[39m fill_metadata(data, dst_file)\n\u001b[0;32m--> 293\u001b[0m data \u001b[38;5;241m=\u001b[39m shower_params(event_list_str, data)\n\u001b[1;32m    295\u001b[0m ntile \u001b[38;5;241m=\u001b[39m \u001b[38;5;241m7\u001b[39m  \u001b[38;5;66;03m# number of SD per one side\u001b[39;00m\n\u001b[1;32m    296\u001b[0m ntime_trace \u001b[38;5;241m=\u001b[39m \u001b[38;5;241m128\u001b[39m  \u001b[38;5;66;03m# number of time trace of waveform\u001b[39;00m\n",
      "File \u001b[0;32m/ceph/sharedfs/work/SATORI/projects/TA-ASIoP/sdanalysis_2018_TALE_TAx4SingleCT_DM/antonpr/dstparser/src/dstparser/dst_parsers.py:86\u001b[0m, in \u001b[0;36mshower_params\u001b[0;34m(event_list_str, data)\u001b[0m\n\u001b[1;32m     71\u001b[0m \u001b[38;5;124;03m\"\"\"\u001b[39;00m\n\u001b[1;32m     72\u001b[0m \u001b[38;5;124;03mevent_format = [\"mass_number\",\u001b[39;00m\n\u001b[1;32m     73\u001b[0m \u001b[38;5;124;03m                \"rusdmc_energy\",\u001b[39;00m\n\u001b[0;32m   (...)\u001b[0m\n\u001b[1;32m     82\u001b[0m \u001b[38;5;124;03m                \"rusdraw_nofwf\"]\u001b[39;00m\n\u001b[1;32m     83\u001b[0m \u001b[38;5;124;03m\"\"\"\u001b[39;00m\n\u001b[1;32m     85\u001b[0m event_list \u001b[38;5;241m=\u001b[39m np\u001b[38;5;241m.\u001b[39marray(event_list)\u001b[38;5;241m.\u001b[39mastype(np\u001b[38;5;241m.\u001b[39mfloat32)\u001b[38;5;241m.\u001b[39mtranspose()\n\u001b[0;32m---> 86\u001b[0m data[\u001b[38;5;124m\"\u001b[39m\u001b[38;5;124mmass_number\u001b[39m\u001b[38;5;124m\"\u001b[39m] \u001b[38;5;241m=\u001b[39m event_list[\u001b[38;5;241m0\u001b[39m]\u001b[38;5;241m.\u001b[39mastype(np\u001b[38;5;241m.\u001b[39mint32)\n\u001b[1;32m     87\u001b[0m data[\u001b[38;5;124m\"\u001b[39m\u001b[38;5;124menergy\u001b[39m\u001b[38;5;124m\"\u001b[39m] \u001b[38;5;241m=\u001b[39m event_list[\u001b[38;5;241m1\u001b[39m]\n\u001b[1;32m     88\u001b[0m data[\u001b[38;5;124m\"\u001b[39m\u001b[38;5;124mxmax\u001b[39m\u001b[38;5;124m\"\u001b[39m] \u001b[38;5;241m=\u001b[39m np\u001b[38;5;241m.\u001b[39mzeros(event_list\u001b[38;5;241m.\u001b[39mshape[\u001b[38;5;241m1\u001b[39m], dtype\u001b[38;5;241m=\u001b[39mnp\u001b[38;5;241m.\u001b[39mfloat32)\n",
      "\u001b[0;31mIndexError\u001b[0m: index 0 is out of bounds for axis 0 with size 0"
     ]
    }
   ],
   "source": [
    "data = parse_dst_file(dst_file)"
   ]
  },
  {
   "cell_type": "code",
   "execution_count": 27,
   "metadata": {},
   "outputs": [],
   "source": [
    "def script_vars(shell_script, script_args=\"\"):\n",
    "    \"\"\"\n",
    "    Compare environment variables before and after running a shell script\n",
    "    and extract added variables.\n",
    "\n",
    "    Args:\n",
    "        shell_script (str): The path to the shell script you want to execute.\n",
    "        script_args (str): The arguments to pass to the shell script.\n",
    "\n",
    "    Returns:\n",
    "        dict: A dictionary containing added environment variables with their values.\n",
    "\n",
    "    Example:\n",
    "        added_vars = script_vars(shell_script=\"/path/to/script.sh\", script_args=\"arg1 arg2\")\n",
    "        for key, value in added_vars.items():\n",
    "            print(f\"{key} = {value}\")\n",
    "    \"\"\"\n",
    "    split_line = \"HERE_IS_SPLIT\"\n",
    "\n",
    "    # Run the shell script and capture the environment variables\n",
    "    variables = (\n",
    "        subprocess.Popen(\n",
    "            (\n",
    "                [\n",
    "                    \"bash\",\n",
    "                    \"-c\",\n",
    "                    f\"set; source $1 $2 > /dev/null 2>&1; echo {split_line}; set\",\n",
    "                    \"_\",\n",
    "                    shell_script,\n",
    "                    script_args,\n",
    "                ]\n",
    "            ),\n",
    "            shell=False,\n",
    "            stdout=subprocess.PIPE,\n",
    "        )\n",
    "        .communicate()[0]\n",
    "        .decode(\"utf-8\")\n",
    "    )\n",
    "\n",
    "    # Create dictionaries to store variables before and after script execution\n",
    "    vars_before = dict()\n",
    "    vars_after = dict()\n",
    "\n",
    "    current_dict = vars_before\n",
    "    for line in variables.split(\"\\n\"):\n",
    "        if line == split_line:\n",
    "            current_dict = vars_after\n",
    "        else:\n",
    "            spl = line.split(\"=\", 1)\n",
    "\n",
    "        if len(spl) > 1:\n",
    "            current_dict[spl[0]] = spl[1].replace(\"'\", \"\")\n",
    "        elif len(spl[0].strip()) > 0:\n",
    "            current_dict[spl[0]] = None\n",
    "\n",
    "    # Identify added variables by comparing before and after dictionaries\n",
    "    added_vars = {\n",
    "        var: value for var, value in vars_after.items() if var not in vars_before\n",
    "    }\n",
    "\n",
    "    return added_vars"
   ]
  },
  {
   "cell_type": "code",
   "execution_count": 28,
   "metadata": {},
   "outputs": [
    {
     "data": {
      "text/plain": [
       "{'DYLD_LIBRARY_PATH': '/ceph/work/SATORI/projects/TA-ASIoP/root/lib',\n",
       " 'LIBPATH': '/ceph/work/SATORI/projects/TA-ASIoP/root/lib',\n",
       " 'PYTHONPATH': '/ceph/work/SATORI/projects/TA-ASIoP/root/lib',\n",
       " 'ROOTSYS': '/ceph/work/SATORI/projects/TA-ASIoP/root',\n",
       " 'SDDIR': '/ceph/sharedfs/work/SATORI/projects/TA-ASIoP/sdanalysis_2018_TALE_TAx4SingleCT_DM/antonpr/dstparser/src/dstparser',\n",
       " 'SHLIB_PATH': '/ceph/work/SATORI/projects/TA-ASIoP/root/lib',\n",
       " 'THIS': '.',\n",
       " 'drop_from_path () ': None,\n",
       " '    if test $# -ne 2; then': None,\n",
       " '        echo \"drop_from_path: needs 2 arguments\";': None,\n",
       " '        return 1;': None,\n",
       " '    p': '$1;',\n",
       " '    drop': '$2;',\n",
       " '    newpath': '`echo $p | sed -e \"s;:${drop}:;:;g\"                           -e \"s;:${drop};;g\"                             -e \"s;${drop}:;;g\"                             -e \"s;${drop};;g\"`'}"
      ]
     },
     "execution_count": 28,
     "metadata": {},
     "output_type": "execute_result"
    }
   ],
   "source": [
    "script_vars(\"sdanalysis_env.sh\")"
   ]
  },
  {
   "cell_type": "code",
   "execution_count": 25,
   "metadata": {},
   "outputs": [
    {
     "ename": "ValueError",
     "evalue": "dictionary update sequence element #77 has length 1; 2 is required",
     "output_type": "error",
     "traceback": [
      "\u001b[0;31m---------------------------------------------------------------------------\u001b[0m",
      "\u001b[0;31mValueError\u001b[0m                                Traceback (most recent call last)",
      "Cell \u001b[0;32mIn[25], line 6\u001b[0m\n\u001b[1;32m      4\u001b[0m pipe \u001b[38;5;241m=\u001b[39m subprocess\u001b[38;5;241m.\u001b[39mPopen(\u001b[38;5;124mf\u001b[39m\u001b[38;5;124m\"\u001b[39m\u001b[38;5;132;01m{\u001b[39;00mscript\u001b[38;5;132;01m}\u001b[39;00m\u001b[38;5;124m; env\u001b[39m\u001b[38;5;124m\"\u001b[39m, stdout\u001b[38;5;241m=\u001b[39msubprocess\u001b[38;5;241m.\u001b[39mPIPE, shell\u001b[38;5;241m=\u001b[39m\u001b[38;5;28;01mTrue\u001b[39;00m)\n\u001b[1;32m      5\u001b[0m output \u001b[38;5;241m=\u001b[39m pipe\u001b[38;5;241m.\u001b[39mcommunicate()[\u001b[38;5;241m0\u001b[39m]\n\u001b[0;32m----> 6\u001b[0m env \u001b[38;5;241m=\u001b[39m \u001b[38;5;28mdict\u001b[39m((line\u001b[38;5;241m.\u001b[39msplit(\u001b[38;5;124m\"\u001b[39m\u001b[38;5;124m=\u001b[39m\u001b[38;5;124m\"\u001b[39m, \u001b[38;5;241m1\u001b[39m) \u001b[38;5;28;01mfor\u001b[39;00m line \u001b[38;5;129;01min\u001b[39;00m output\u001b[38;5;241m.\u001b[39mdecode(\u001b[38;5;124m'\u001b[39m\u001b[38;5;124mutf-8\u001b[39m\u001b[38;5;124m'\u001b[39m)\u001b[38;5;241m.\u001b[39msplitlines()))\n",
      "\u001b[0;31mValueError\u001b[0m: dictionary update sequence element #77 has length 1; 2 is required"
     ]
    }
   ],
   "source": [
    "import subprocess, os\n",
    "script =  \"/ceph/work/SATORI/projects/TA-ASIoP/sdanalysis_2018_TALE_TAx4SingleCT_DM/antonpr/dstparser/src/dstparser/sdanalysis_env.sh\"\n",
    "# script = \"sdanalysis_env.sh\"\n",
    "pipe = subprocess.Popen(f\"{script}; env\", stdout=subprocess.PIPE, shell=True)\n",
    "output = pipe.communicate()[0]\n",
    "env = dict((line.split(\"=\", 1) for line in output.decode('utf-8').splitlines()))\n",
    "#     os.environ.update(env)\n",
    "# Solution 3:\n",
    "\n"
   ]
  },
  {
   "cell_type": "code",
   "execution_count": 22,
   "metadata": {},
   "outputs": [
    {
     "data": {
      "text/plain": [
       "b'MANPATH=/usr/share/lmod/lmod/share/man:\\nXDG_SESSION_ID=4967\\nHOSTNAME=slurm-ui-asiop.twgrid.org\\n_ModuleTable003_=L3Vzci9zaGFyZS9tb2R1bGVmaWxlcyIsICIvdXNyL3NoYXJlL21vZHVsZWZpbGVzL0xpbnV4IgosICIvdXNyL3NoYXJlL21vZHVsZWZpbGVzL0NvcmUiLCAiL3Vzci9zaGFyZS9sbW9kL2xtb2QvbW9kdWxlZmlsZXMvQ29yZSIsCn0sCnN5c3RlbUJhc2VNUEFUSCA9ICIvY2VwaC9zaGFyZWRmcy9hcHBzL2dlbmVyYWwvY2VudG9zNy9tb2R1bGVmaWxlczovY2VwaC9zaGFyZWRmcy9hcHBzL2FtZC9jZW50b3M3L21vZHVsZWZpbGVzOi9jZXBoL3NoYXJlZGZzL2FwcHMvaW50ZWwvY2VudG9zNy9tb2R1bGVmaWxlczovY2VwaC9zaGFyZWRmcy9hcHBzL2ludGVsL2NlbnRvczcvYXBwbGljYWlvbnM6L2V0Yy9tb2R1bGVmaWxlczovdXNyL3NoYXJlL21vZHVsZWZpbGVzOi91c3Ivc2hh\\nTERM=xterm-color\\nSHELL=/bin/bash\\n__LMOD_REF_COUNT_MODULEPATH=/ceph/sharedfs/apps/general/centos7/modulefiles:2;/ceph/sharedfs/apps/amd/centos7/modulefiles:2;/ceph/sharedfs/apps/intel/centos7/modulefiles:2;/ceph/sharedfs/apps/intel/centos7/applicaions:2;/etc/modulefiles:1;/usr/share/modulefiles:1;/usr/share/modulefiles/Linux:1;/usr/share/modulefiles/Core:1;/usr/share/lmod/lmod/modulefiles/Core:1\\nMKL_THREADING_LAYER=INTEL\\nCLICOLOR=1\\nHISTSIZE=1000\\nLMOD_ROOT=/usr/share/lmod\\nSSH_CLIENT=140.109.103.200 50110 22\\nMODULEPATH_ROOT=/usr/share/modulefiles\\nCONDA_SHLVL=6\\nPYTHONUNBUFFERED=1\\nCONDA_PROMPT_MODIFIER=(env_main) \\nLMOD_PKG=/usr/share/lmod/lmod\\nPYDEVD_USE_FRAME_EVAL=NO\\nLMOD_VERSION=8.7.20\\nVSCODE_HANDLES_SIGPIPE=true\\nPYTHONIOENCODING=utf-8\\nUSER=antonpr\\nLMOD_sys=Linux\\nLD_LIBRARY_PATH=/cvmfs/cvmfs.grid.sinica.edu.tw/hpc/compiler/gcc/9.3.0/lib:/cvmfs/cvmfs.grid.sinica.edu.tw/hpc/compiler/gcc/9.3.0/lib64:/ceph/work/SATORI/projects/TA-ASIoP/sdanalysis_2018_TALE_TAx4SingleCT_DM/lib\\nCONDA_EXE=/dicos_ui_home/antonpr/miniconda3/bin/conda\\n_ModuleTable004_=cmUvbW9kdWxlZmlsZXMvTGludXg6L3Vzci9zaGFyZS9tb2R1bGVmaWxlcy9Db3JlOi91c3Ivc2hhcmUvbG1vZC9sbW9kL21vZHVsZWZpbGVzL0NvcmUiLAp9Cg==\\nCONDA_PREFIX_5=/dicos_ui_home/antonpr/miniconda3\\nPAGER=cat\\nCONDA_PREFIX_4=/dicos_ui_home/antonpr/miniconda3/envs/env_main\\nELECTRON_RUN_AS_NODE=1\\nVSCODE_AMD_ENTRYPOINT=vs/workbench/api/node/extensionHostProcess\\nVSCODE_AGENT_FOLDER=/dicos_ui_home/antonpr/.vscode-server\\n_CE_CONDA=\\nCONDA_ROOT=/dicos_ui_home/antonpr/miniconda3\\nCONDA_PREFIX_1=/dicos_ui_home/antonpr/miniconda3\\nPATH=/dicos_ui_home/antonpr/miniconda3/envs/env_main/bin:/dicos_ui_home/antonpr/.vscode-server/bin/8b3775030ed1a69b13e4f4c628c612102e30a681/bin/remote-cli:/cvmfs/cvmfs.grid.sinica.edu.tw/hpc/compiler/gcc/9.3.0/bin:/dicos_ui_home/antonpr/miniconda3/envs/env_main/bin:/dicos_ui_home/antonpr/miniconda3/condabin:/usr/local/bin:/usr/bin:/usr/local/sbin:/usr/sbin:/dicos_ui_home/antonpr/.local/bin:/dicos_ui_home/antonpr/bin:/ceph/work/SATORI/projects/TA-ASIoP/sdanalysis_2018_TALE_TAx4SingleCT_DM/bin\\nMAIL=/var/spool/mail/antonpr\\n_ModuleTable001_=X01vZHVsZVRhYmxlXyA9IHsKTVR2ZXJzaW9uID0gMywKY19yZWJ1aWxkVGltZSA9IGZhbHNlLApjX3Nob3J0VGltZSA9IGZhbHNlLApkZXB0aFQgPSB7fSwKZmFtaWx5ID0ge30sCm1UID0gewpnY2MgPSB7CmZuID0gIi9jZXBoL3NoYXJlZGZzL2FwcHMvZ2VuZXJhbC9jZW50b3M3L21vZHVsZWZpbGVzL2djYy85LjMuMCIsCmZ1bGxOYW1lID0gImdjYy85LjMuMCIsCmxvYWRPcmRlciA9IDEsCnByb3BUID0ge30sCnN0YWNrRGVwdGggPSAwLApzdGF0dXMgPSAiYWN0aXZlIiwKdXNlck5hbWUgPSAiZ2NjLzkuMy4wIiwKd1YgPSAiMDAwMDAwMDA5LjAwMDAwMDAwMy4qemZpbmFsIiwKfSwKfSwKbXBhdGhBID0gewoiL2NlcGgvc2hhcmVkZnMvYXBwcy9nZW5lcmFsL2NlbnRvczcv\\nCONDA_PREFIX_3=/dicos_ui_home/antonpr/miniconda3\\nCONDA_PREFIX_2=/dicos_ui_home/antonpr/miniconda3/envs/env_main\\nCONDA_PREFIX=/dicos_ui_home/antonpr/miniconda3/envs/env_main\\nPWD=/ceph/sharedfs/work/SATORI/projects/TA-ASIoP/sdanalysis_2018_TALE_TAx4SingleCT_DM/antonpr/dstparser/src/dstparser\\nVSCODE_HANDLES_UNCAUGHT_ERRORS=true\\n_LMFILES_=/ceph/sharedfs/apps/general/centos7/modulefiles/gcc/9.3.0\\nMPLBACKEND=module://matplotlib_inline.backend_inline\\nLANG=en_US.UTF-8\\nMODULEPATH=/ceph/sharedfs/apps/general/centos7/modulefiles:/ceph/sharedfs/apps/amd/centos7/modulefiles:/ceph/sharedfs/apps/intel/centos7/modulefiles:/ceph/sharedfs/apps/intel/centos7/applicaions:/etc/modulefiles:/usr/share/modulefiles:/usr/share/modulefiles/Linux:/usr/share/modulefiles/Core:/usr/share/lmod/lmod/modulefiles/Core\\nLOADEDMODULES=gcc/9.3.0\\n_ModuleTable_Sz_=4\\nFORCE_COLOR=1\\nLMOD_CMD=/usr/share/lmod/lmod/libexec/lmod\\nHISTCONTROL=ignoredups\\n_CE_M=\\nHOME=/dicos_ui_home/antonpr\\nSHLVL=7\\n__LMOD_REF_COUNT_PATH=/cvmfs/cvmfs.grid.sinica.edu.tw/hpc/compiler/gcc/9.3.0/bin:1;/dicos_ui_home/antonpr/miniconda3/envs/env_main/bin:1;/dicos_ui_home/antonpr/miniconda3/condabin:1;/usr/local/bin:1;/usr/bin:1;/usr/local/sbin:1;/usr/sbin:1\\nVSCODE_NLS_CONFIG={\"locale\":\"en\",\"osLocale\":\"en\",\"availableLanguages\":{}}\\nPYDEVD_IPYTHON_COMPATIBLE_DEBUGGING=1\\nFLUPRO=/ceph/sharedfs/users/a/antonpr/work/apps/bin/fluka2021_gcc9_217\\n_ModuleTable002_=bW9kdWxlZmlsZXMiCiwgIi9jZXBoL3NoYXJlZGZzL2FwcHMvYW1kL2NlbnRvczcvbW9kdWxlZmlsZXMiCiwgIi9jZXBoL3NoYXJlZGZzL2FwcHMvaW50ZWwvY2VudG9zNy9tb2R1bGVmaWxlcyIKLCAiL2NlcGgvc2hhcmVkZnMvYXBwcy9pbnRlbC9jZW50b3M3L2FwcGxpY2Fpb25zIgosICIvY2VwaC9zaGFyZWRmcy9hcHBzL2dlbmVyYWwvY2VudG9zNy9tb2R1bGVmaWxlcyIKLCAiL2NlcGgvc2hhcmVkZnMvYXBwcy9hbWQvY2VudG9zNy9tb2R1bGVmaWxlcyIKLCAiL2NlcGgvc2hhcmVkZnMvYXBwcy9pbnRlbC9jZW50b3M3L21vZHVsZWZpbGVzIgosICIvY2VwaC9zaGFyZWRmcy9hcHBzL2ludGVsL2NlbnRvczcvYXBwbGljYWlvbnMiLCAiL2V0Yy9tb2R1bGVmaWxlcyIKLCAi\\nBASH_ENV=/usr/share/lmod/lmod/init/bash\\nLOGNAME=antonpr\\nCONDA_PYTHON_EXE=/dicos_ui_home/antonpr/miniconda3/bin/python\\nSSH_CONNECTION=140.109.103.200 50110 140.109.99.218 22\\nVSCODE_IPC_HOOK_CLI=/run/user/59626/vscode-ipc-5a62521a-beb9-41bc-97c5-d400476fcaa2.sock\\nMODULESHOME=/usr/share/lmod/lmod\\nCLICOLOR_FORCE=1\\nLESSOPEN=||/usr/bin/lesspipe.sh %s\\nLMOD_SETTARG_FULL_SUPPORT=no\\nCONDA_DEFAULT_ENV=env_main\\n__LMOD_REF_COUNT_LD_LIBRARY_PATH=/cvmfs/cvmfs.grid.sinica.edu.tw/hpc/compiler/gcc/9.3.0/lib:1;/cvmfs/cvmfs.grid.sinica.edu.tw/hpc/compiler/gcc/9.3.0/lib64:1\\nBROWSER=/dicos_ui_home/antonpr/.vscode-server/bin/8b3775030ed1a69b13e4f4c628c612102e30a681/bin/helpers/browser.sh\\nXDG_RUNTIME_DIR=/run/user/59626\\nGIT_PAGER=cat\\nLMOD_DIR=/usr/share/lmod/lmod/libexec\\nVSCODE_CWD=/dicos_ui_home/antonpr\\nBASH_FUNC_module()=() {  if [ -z \"${LMOD_SH_DBG_ON+x}\" ]; then\\n case \"$-\" in \\n *v*x*)\\n __lmod_sh_dbg=\\'vx\\'\\n ;;\\n *v*)\\n __lmod_sh_dbg=\\'v\\'\\n ;;\\n *x*)\\n __lmod_sh_dbg=\\'x\\'\\n ;;\\n esac;\\n fi;\\n if [ -n \"${__lmod_sh_dbg:-}\" ]; then\\n set +$__lmod_sh_dbg;\\n echo \"Shell debugging temporarily silenced: export LMOD_SH_DBG_ON=1 for Lmod\\'s output\" 1>&2;\\n fi;\\n eval \"$($LMOD_CMD shell \"$@\")\" && eval \"$(${LMOD_SETTARG_CMD:-:} -s sh)\";\\n __lmod_my_status=$?;\\n if [ -n \"${__lmod_sh_dbg:-}\" ]; then\\n echo \"Shell debugging restarted\" 1>&2;\\n set -$__lmod_sh_dbg;\\n fi;\\n unset __lmod_sh_dbg;\\n return $__lmod_my_status\\n}\\nBASH_FUNC_ml()=() {  eval \"$($LMOD_DIR/ml_cmd \"$@\")\"\\n}\\n_=/usr/bin/env\\n'"
      ]
     },
     "execution_count": 22,
     "metadata": {},
     "output_type": "execute_result"
    }
   ],
   "source": [
    "output"
   ]
  }
 ],
 "metadata": {
  "kernelspec": {
   "display_name": "env_main",
   "language": "python",
   "name": "python3"
  },
  "language_info": {
   "codemirror_mode": {
    "name": "ipython",
    "version": 3
   },
   "file_extension": ".py",
   "mimetype": "text/x-python",
   "name": "python",
   "nbconvert_exporter": "python",
   "pygments_lexer": "ipython3",
   "version": "3.11.2"
  }
 },
 "nbformat": 4,
 "nbformat_minor": 2
}
