{
 "cells": [
  {
   "cell_type": "code",
   "execution_count": 2,
   "metadata": {},
   "outputs": [],
   "source": [
    "%load_ext autoreload\n",
    "%autoreload 2\n",
    "from read_data import data_files\n",
    "from xmax_reader import XmaxReader\n",
    "import numpy as np\n",
    "import matplotlib.pyplot as plt"
   ]
  },
  {
   "cell_type": "code",
   "execution_count": 32,
   "metadata": {},
   "outputs": [],
   "source": [
    "xreader = XmaxReader()"
   ]
  },
  {
   "cell_type": "code",
   "execution_count": null,
   "metadata": {},
   "outputs": [],
   "source": [
    "xreader()"
   ]
  },
  {
   "cell_type": "code",
   "execution_count": 18,
   "metadata": {},
   "outputs": [],
   "source": [
    "from astrotools import mean_xmax\n",
    "import numpy as np"
   ]
  },
  {
   "cell_type": "code",
   "execution_count": 19,
   "metadata": {},
   "outputs": [
    {
     "name": "stdout",
     "output_type": "stream",
     "text": [
      "Hello\n",
      "-0.0\n"
     ]
    },
    {
     "data": {
      "text/plain": [
       "736.0"
      ]
     },
     "execution_count": 19,
     "metadata": {},
     "output_type": "execute_result"
    }
   ],
   "source": [
    "mean_xmax(np.log10(1e18), 1, model=\"QGSJetII\")"
   ]
  },
  {
   "cell_type": "code",
   "execution_count": 2,
   "metadata": {},
   "outputs": [],
   "source": [
    "xmax_reader = XmaxReader()"
   ]
  },
  {
   "cell_type": "code",
   "execution_count": 106,
   "metadata": {},
   "outputs": [],
   "source": [
    "path_01 = \"/ceph/work/SATORI/projects/TA-ASIoP/tasdmc_dstbank/qgsii03proton/080511_230511/noCuts_HiResSpectrum/\""
   ]
  },
  {
   "cell_type": "code",
   "execution_count": 107,
   "metadata": {},
   "outputs": [],
   "source": [
    "files = data_files(data_dir=path_01, glob_pattern=\"**/DAT*gz\")"
   ]
  },
  {
   "cell_type": "code",
   "execution_count": 110,
   "metadata": {},
   "outputs": [
    {
     "data": {
      "text/plain": [
       "844.6672"
      ]
     },
     "execution_count": 110,
     "metadata": {},
     "output_type": "execute_result"
    }
   ],
   "source": [
    "xmax_reader(files[5983])"
   ]
  },
  {
   "cell_type": "code",
   "execution_count": 111,
   "metadata": {},
   "outputs": [],
   "source": [
    "import numpy as np"
   ]
  },
  {
   "cell_type": "code",
   "execution_count": 114,
   "metadata": {},
   "outputs": [],
   "source": [
    "fff = np.zeros(10, dtype=np.float32)\n",
    "fff.fill(xmax_reader(files[583]))"
   ]
  },
  {
   "cell_type": "code",
   "execution_count": 115,
   "metadata": {},
   "outputs": [
    {
     "data": {
      "text/plain": [
       "array([690.07635, 690.07635, 690.07635, 690.07635, 690.07635, 690.07635,\n",
       "       690.07635, 690.07635, 690.07635, 690.07635], dtype=float32)"
      ]
     },
     "execution_count": 115,
     "metadata": {},
     "output_type": "execute_result"
    }
   ],
   "source": [
    "fff"
   ]
  },
  {
   "cell_type": "code",
   "execution_count": 3,
   "metadata": {},
   "outputs": [],
   "source": [
    "dst_directory = (\n",
    "        \"/ceph/work/SATORI/projects/TA-ASIoP/tasdmc_dstbank/\"\n",
    "        \"qgsii03proton/080511_230511/noCuts_HiResSpectrum/\"\n",
    "    )\n",
    "\n",
    "dst_files = data_files(\n",
    "    data_dir=dst_directory, glob_pattern=\"**/DAT*_xmax.txt\")"
   ]
  },
  {
   "cell_type": "code",
   "execution_count": 7,
   "metadata": {},
   "outputs": [],
   "source": [
    "import numpy as np"
   ]
  },
  {
   "cell_type": "code",
   "execution_count": null,
   "metadata": {},
   "outputs": [],
   "source": []
  },
  {
   "cell_type": "code",
   "execution_count": 36,
   "metadata": {},
   "outputs": [],
   "source": [
    "def file_xmax_map():\n",
    "    dst_directory = (\n",
    "        \"/ceph/work/SATORI/projects/TA-ASIoP/tasdmc_dstbank/\"\n",
    "        \"qgsii03proton/080511_230511/noCuts_HiResSpectrum/\"\n",
    "    )\n",
    "\n",
    "    dst_files = data_files(data_dir=dst_directory, glob_pattern=\"**/DAT*_xmax.txt\")\n",
    "\n",
    "    file_idx = []\n",
    "    all_xmax = []\n",
    "    all_xmax_vert = []\n",
    "    all_cost = []\n",
    "    all_zenith = []\n",
    "    for dst_file in dst_files:\n",
    "        nfile, nevents, zenith_angle, xmax = np.loadtxt(\n",
    "            dst_file, dtype=str, unpack=True\n",
    "        )\n",
    "\n",
    "        zenith_angle = np.array(zenith_angle, dtype=np.float32)\n",
    "        cost = np.cos(zenith_angle * (np.pi / 180))\n",
    "        xmax_vertical = np.array(xmax, dtype=np.float32)\n",
    "        xmax = xmax_vertical / cost\n",
    "        file_idx.append(nfile)\n",
    "        all_xmax.append(xmax)\n",
    "        all_xmax_vert.append(xmax_vertical)\n",
    "        all_cost.append(cost)\n",
    "        all_zenith.append(zenith_angle)\n",
    "        \n",
    "    file_idx = np.concatenate(file_idx)\n",
    "    all_xmax = np.concatenate(all_xmax)\n",
    "    all_xmax_vert = np.concatenate(all_xmax_vert)\n",
    "    all_cost = np.concatenate(all_cost)\n",
    "    all_zenith = np.concatenate(all_zenith)\n",
    "    return file_idx, all_xmax, all_xmax_vert, all_cost, all_zenith "
   ]
  },
  {
   "cell_type": "code",
   "execution_count": 37,
   "metadata": {},
   "outputs": [],
   "source": [
    "file_idx, all_xmax, all_xmax_vert, all_cost, all_zenith  = file_xmax_map()\n"
   ]
  },
  {
   "cell_type": "code",
   "execution_count": 29,
   "metadata": {},
   "outputs": [],
   "source": [
    "sorted(all_xmax_vert)[-80:]\n",
    "None"
   ]
  },
  {
   "cell_type": "code",
   "execution_count": 12,
   "metadata": {},
   "outputs": [
    {
     "data": {
      "text/plain": [
       "'020902'"
      ]
     },
     "execution_count": 12,
     "metadata": {},
     "output_type": "execute_result"
    }
   ],
   "source": [
    "file_idx[np.argmax(all_xmax_vert)]"
   ]
  },
  {
   "cell_type": "code",
   "execution_count": 18,
   "metadata": {},
   "outputs": [
    {
     "data": {
      "text/plain": [
       "array([  336.29,   338.91,   340.09, ...,  1064.5 ,  1145.9 , 10035.  ],\n",
       "      dtype=float32)"
      ]
     },
     "execution_count": 18,
     "metadata": {},
     "output_type": "execute_result"
    }
   ],
   "source": [
    "ss = np.array(sorted(all_xmax_vert))\n",
    "ss[ss > 0]"
   ]
  },
  {
   "cell_type": "code",
   "execution_count": 15,
   "metadata": {},
   "outputs": [
    {
     "data": {
      "text/plain": [
       "(0.0, 10455.112)"
      ]
     },
     "execution_count": 15,
     "metadata": {},
     "output_type": "execute_result"
    }
   ],
   "source": [
    "min(all_xmax), max(all_xmax)"
   ]
  },
  {
   "cell_type": "code",
   "execution_count": 39,
   "metadata": {},
   "outputs": [
    {
     "data": {
      "text/plain": [
       "1739.9999999999995"
      ]
     },
     "execution_count": 39,
     "metadata": {},
     "output_type": "execute_result"
    }
   ],
   "source": [
    "870/np.cos(60*np.pi/180)"
   ]
  },
  {
   "cell_type": "code",
   "execution_count": 38,
   "metadata": {},
   "outputs": [
    {
     "data": {
      "text/plain": [
       "59.9977"
      ]
     },
     "execution_count": 38,
     "metadata": {},
     "output_type": "execute_result"
    }
   ],
   "source": [
    "np.max(all_zenith)"
   ]
  },
  {
   "cell_type": "code",
   "execution_count": 53,
   "metadata": {},
   "outputs": [],
   "source": [
    "def rand_gumbel(lgE, A, size=None, model='EPOS-LHC'):\n",
    "    \"\"\"\n",
    "    Random Xmax values for given energy E [EeV] and mass number A\n",
    "    See Manlio De Domenico et al., JCAP07(2013)050, doi:10.1088/1475-7516/2013/07/050\n",
    "    Args:\n",
    "        lgE (array): energy log10(E/eV)\n",
    "        A (array): mass number\n",
    "        model (string): hadronic interaction model\n",
    "        size (int, optional): number of xmax values to create\n",
    "    Returns:\n",
    "        array of random Xmax values in [g/cm^2]\n",
    "    \"\"\"\n",
    "    lE = lgE - 19\n",
    "    lnA = np.log(A)\n",
    "    D = np.array([np.ones_like(A), lnA, lnA**2])\n",
    "\n",
    "    params = {\n",
    "        'QGSJetII': {\n",
    "            'mu': ((758.444, -10.692, -1.253), (48.892, 0.02, 0.179), (-2.346, 0.348, -0.086)),\n",
    "            'sigma': ((39.033, 7.452, -2.176), (4.390, -1.688, 0.170)),\n",
    "            'lambda': ((0.857, 0.686, -0.040), (0.179, 0.076, -0.0130))},\n",
    "        'QGSJetII-04': {\n",
    "            'mu': ((761.383, -11.719, -1.372), (57.344, -1.731, 0.309), (-0.355, 0.273, -0.137)),\n",
    "            'sigma': ((35.221, 12.335, -2.889), (0.307, -1.147, 0.271)),\n",
    "            'lambda': ((0.673, 0.694, -0.007), (0.060, -0.019, 0.017))},\n",
    "        'Sibyll2.1': {\n",
    "            'mu': ((770.104, -15.873, -0.960), (58.668, -0.124, -0.023), (-1.423, 0.977, -0.191)),\n",
    "            'sigma': ((31.717, 1.335, -0.601), (-1.912, 0.007, 0.086)),\n",
    "            'lambda': ((0.683, 0.278, 0.012), (0.008, 0.051, 0.003))},\n",
    "        'EPOS1.99': {\n",
    "            'mu': ((780.013, -11.488, -1.906), (61.911, -0.098, 0.038), (-0.405, 0.163, -0.095)),\n",
    "            'sigma': ((28.853, 8.104, -1.924), (-0.083, -0.961, 0.215)),\n",
    "            'lambda': ((0.538, 0.524, 0.047), (0.009, 0.023, 0.010))},\n",
    "        'EPOS-LHC': {\n",
    "            'mu': ((775.589, -7.047, -2.427), (57.589, -0.743, 0.214), (-0.820, -0.169, -0.027)),\n",
    "            'sigma': ((29.403, 13.553, -3.154), (0.096, -0.961, 0.150)),\n",
    "            'lambda': ((0.563, 0.711, 0.058), (0.039, 0.067, -0.004))}}\n",
    "    param = params[model]\n",
    "\n",
    "    p0, p1, p2 = np.dot(param['mu'], D)\n",
    "    mu = p0 + p1 * lE + p2 * lE**2\n",
    "    p0, p1 = np.dot(param['sigma'], D)\n",
    "    sigma = p0 + p1 * lE\n",
    "    p0, p1 = np.dot(param['lambda'], D)\n",
    "    lambd = p0 + p1 * lE\n",
    "\n",
    "    return mu - sigma * np.log(np.random.gamma(lambd, 1. / lambd, size=size))"
   ]
  },
  {
   "cell_type": "code",
   "execution_count": 73,
   "metadata": {},
   "outputs": [],
   "source": [
    "def gen_log10_energies(n, e_min, e_max, sp_idx):\n",
    "    \"\"\"\n",
    "    Generate random logarithmic energy values based on specified parameters.\n",
    "\n",
    "    Parameters:\n",
    "    - n (int): Number of energy values to generate.\n",
    "    - e_min (float): Minimum energy value.\n",
    "    - e_max (float): Maximum energy value.\n",
    "    - sp_idx (float): Spectral index for energy distribution.\n",
    "\n",
    "    Returns:\n",
    "    - numpy.ndarray: Array containing randomly generated logarithmic energy values.\n",
    "\n",
    "    Example:\n",
    "    >>> gen_log_energies(100, 1e16, 1e18, 2.0)\n",
    "    array([...])  # Array of 100 logarithmic energy values with a spectral index of 2.0\n",
    "    \"\"\"\n",
    "    if sp_idx == 1:\n",
    "        # Generate logarithmic energy values for a linear spectrum\n",
    "        log_energies = np.log10(e_min) + np.log10(e_max / e_min) * np.random.rand(n)\n",
    "        return log_energies\n",
    "    else:\n",
    "        # Calculate parameters for a power-law spectrum\n",
    "        p1 = (e_min / e_max) ** (sp_idx - 1) - 1\n",
    "\n",
    "        # Generate logarithmic energy values for a power-law spectrum\n",
    "        log_energies = np.log10(e_min) - np.log1p(p1 * np.random.rand(n)) / (\n",
    "            (sp_idx - 1) * np.log(10)\n",
    "        )\n",
    "        return log_energies"
   ]
  },
  {
   "cell_type": "code",
   "execution_count": 68,
   "metadata": {},
   "outputs": [],
   "source": [
    "nn = int(1e6)\n",
    "logE = 18 + 2.5*np.random.rand(nn)\n",
    "aa = np.ones_like(logE)\n",
    "xmax_gumb_qgs = rand_gumbel(logE, aa, None, 'QGSJetII')\n",
    "xmax_gumb_epos = rand_gumbel(logE, aa, None, 'EPOS-LHC')"
   ]
  },
  {
   "cell_type": "code",
   "execution_count": null,
   "metadata": {},
   "outputs": [],
   "source": [
    "rand_gumbel()"
   ]
  },
  {
   "cell_type": "code",
   "execution_count": 71,
   "metadata": {},
   "outputs": [
    {
     "data": {
      "text/plain": [
       "<matplotlib.legend.Legend at 0x7f877df7cf50>"
      ]
     },
     "execution_count": 71,
     "metadata": {},
     "output_type": "execute_result"
    },
    {
     "data": {
      "image/png": "[encoded data removed]",
      "text/plain": [
       "<Figure size 640x480 with 1 Axes>"
      ]
     },
     "metadata": {},
     "output_type": "display_data"
    }
   ],
   "source": [
    "bins = np.linspace(300, 1200, 70)\n",
    "tt = plt.hist(xmax_gumb_qgs, bins = bins, alpha = 0.5, density=True, label = r\"Xmax, Gumbel, 1M, $E^{-1}$, QGSJetII\")\n",
    "tt = plt.hist(xmax_gumb_epos, bins = bins, alpha = 0.5, density=True, label = r\"Xmax Gumbel, 1M,, $E^{-1}$, EPOS-LHC\")\n",
    "tt = plt.hist(all_xmax, bins = bins, alpha = 0.5, density=True, label = \"Xmax\")\n",
    "tt = plt.hist(all_xmax_vert, bins = bins, alpha = 0.2, density=True, label = \"Vertical Xmax\")\n",
    "plt.yscale(\"log\")\n",
    "plt.ylim(1e-7, 1)\n",
    "plt.legend()"
   ]
  },
  {
   "cell_type": "code",
   "execution_count": 72,
   "metadata": {},
   "outputs": [
    {
     "data": {
      "text/plain": [
       "<matplotlib.legend.Legend at 0x7f877dca1e10>"
      ]
     },
     "execution_count": 72,
     "metadata": {},
     "output_type": "execute_result"
    },
    {
     "data": {
      "image/png": "[encoded data removed]",
      "text/plain": [
       "<Figure size 640x480 with 1 Axes>"
      ]
     },
     "metadata": {},
     "output_type": "display_data"
    }
   ],
   "source": [
    "bins = np.linspace(300, 1200, 70)\n",
    "tt = plt.hist(xmax_gumb_qgs, bins = bins, alpha = 0.5, density=True, label = r\"Xmax, Gumbel, 1M, $E^{-1}$, QGSJetII\")\n",
    "# tt = plt.hist(xmax_gumb_epos, bins = bins, alpha = 0.5, density=True, label = r\"Xmax Gumbel, 1M,, $E^{-1}$, EPOS-LHC\")\n",
    "tt = plt.hist(all_xmax, bins = bins, alpha = 0.5, density=True, label = \"Xmax\")\n",
    "tt = plt.hist(all_xmax_vert, bins = bins, alpha = 0.2, density=True, label = \"Vertical Xmax\")\n",
    "plt.yscale(\"log\")\n",
    "plt.ylim(1e-7, 1)\n",
    "plt.legend()"
   ]
  },
  {
   "cell_type": "code",
   "execution_count": 83,
   "metadata": {},
   "outputs": [],
   "source": [
    "nn = int(1e6)\n",
    "logE_25 = gen_log10_energies(nn, 1e18, 3e20, 2.5)\n",
    "logE_20 = gen_log10_energies(nn, 1e18, 3e20, 2)\n",
    "logE_15 = gen_log10_energies(nn, 1e18, 3e20, 1.5)\n",
    "logE_10 = gen_log10_energies(nn, 1e18, 3e20, 1)\n",
    "aa = np.ones_like(logE)\n",
    "xmax_gumb_qgs_25 = rand_gumbel(logE_25, aa, None, 'QGSJetII')\n",
    "xmax_gumb_qgs_20 = rand_gumbel(logE_20, aa, None, 'QGSJetII')\n",
    "xmax_gumb_qgs_15 = rand_gumbel(logE_15, aa, None, 'QGSJetII')\n",
    "xmax_gumb_qgs_10 = rand_gumbel(logE_10, aa, None, 'QGSJetII')"
   ]
  },
  {
   "cell_type": "code",
   "execution_count": 90,
   "metadata": {},
   "outputs": [
    {
     "data": {
      "text/plain": [
       "<matplotlib.legend.Legend at 0x7f877cef3390>"
      ]
     },
     "execution_count": 90,
     "metadata": {},
     "output_type": "execute_result"
    },
    {
     "data": {
      "image/png": "[encoded data removed]",
      "text/plain": [
       "<Figure size 640x480 with 1 Axes>"
      ]
     },
     "metadata": {},
     "output_type": "display_data"
    }
   ],
   "source": [
    "bins = np.linspace(300, 1200, 70)\n",
    "tt = plt.hist(xmax_gumb_qgs_10, bins = bins, alpha = 0.5, density=True, label = r\"Xmax, Gumbel, 1M, $E^{-1}$, QGSJetII\")\n",
    "# tt = plt.hist(xmax_gumb_qgs_15, bins = bins, alpha = 0.5, density=True, label = r\"Xmax, Gumbel, 1M, $E^{-1.5}$, QGSJetII\")\n",
    "# tt = plt.hist(xmax_gumb_qgs_20, bins = bins, alpha = 0.5, density=True, label = r\"Xmax, Gumbel, 1M, $E^{-2}$, QGSJetII\")\n",
    "tt = plt.hist(xmax_gumb_qgs_25, bins = bins, alpha = 0.5, density=True, label = r\"Xmax, Gumbel, 1M, $E^{-2.5}$, QGSJetII\")\n",
    "# tt = plt.hist(xmax_gumb_epos, bins = bins, alpha = 0.5, density=True, label = r\"Xmax Gumbel, 1M,, $E^{-1}$, EPOS-LHC\")\n",
    "tt = plt.hist(all_xmax, bins = bins, alpha = 0.5, density=True, label = \"Xmax, TA dataset\")\n",
    "# tt = plt.hist(all_xmax_vert, bins = bins, alpha = 0.2, density=True, label = \"Vertical Xmax\")\n",
    "plt.yscale(\"log\")\n",
    "plt.ylim(1e-7, 1)\n",
    "plt.legend()"
   ]
  },
  {
   "cell_type": "code",
   "execution_count": 101,
   "metadata": {},
   "outputs": [],
   "source": [
    "def xmax_val(file_idx, all_xmax, idx):\n",
    "    try:\n",
    "        return all_xmax[np.where(file_idx == idx)[0]][0]\n",
    "    except Exception:\n",
    "        return np.nan"
   ]
  },
  {
   "cell_type": "code",
   "execution_count": 25,
   "metadata": {},
   "outputs": [
    {
     "data": {
      "text/plain": [
       "25"
      ]
     },
     "execution_count": 25,
     "metadata": {},
     "output_type": "execute_result"
    }
   ],
   "source": [
    "ff = '024725'\n",
    "int(ff[-2:])"
   ]
  },
  {
   "cell_type": "code",
   "execution_count": 27,
   "metadata": {},
   "outputs": [],
   "source": [
    "aa = np.nan"
   ]
  },
  {
   "cell_type": "code",
   "execution_count": 30,
   "metadata": {},
   "outputs": [
    {
     "data": {
      "text/plain": [
       "False"
      ]
     },
     "execution_count": 30,
     "metadata": {},
     "output_type": "execute_result"
    }
   ],
   "source": [
    "aa == np.nan"
   ]
  },
  {
   "cell_type": "code",
   "execution_count": 88,
   "metadata": {},
   "outputs": [
    {
     "data": {
      "text/plain": [
       "array(['000000', '000100', '000200', ..., '024725', '024825', '024925'],\n",
       "      dtype='<U10')"
      ]
     },
     "execution_count": 88,
     "metadata": {},
     "output_type": "execute_result"
    }
   ],
   "source": [
    "file_idx, all_xmax = file_xmax_map()"
   ]
  },
  {
   "cell_type": "code",
   "execution_count": 102,
   "metadata": {},
   "outputs": [
    {
     "data": {
      "text/plain": [
       "728.74426"
      ]
     },
     "execution_count": 102,
     "metadata": {},
     "output_type": "execute_result"
    }
   ],
   "source": [
    "xmax_val(file_idx, all_xmax, \"024900\")"
   ]
  },
  {
   "cell_type": "code",
   "execution_count": 89,
   "metadata": {},
   "outputs": [
    {
     "data": {
      "text/plain": [
       "(1,)"
      ]
     },
     "execution_count": 89,
     "metadata": {},
     "output_type": "execute_result"
    }
   ],
   "source": [
    "np.where(file_idx == '024900')[0].shape"
   ]
  },
  {
   "cell_type": "code",
   "execution_count": 91,
   "metadata": {},
   "outputs": [
    {
     "data": {
      "text/plain": [
       "array([908.0149], dtype=float32)"
      ]
     },
     "execution_count": 91,
     "metadata": {},
     "output_type": "execute_result"
    }
   ],
   "source": [
    "all_xmax[np.where(file_idx == '007700')[0]]"
   ]
  },
  {
   "cell_type": "code",
   "execution_count": 60,
   "metadata": {},
   "outputs": [],
   "source": [
    "zenith_angle = np.array(zenith_angle, dtype=np.float32)\n",
    "cost = np.cos(zenith_angle*(np.pi/180))\n",
    "xmax0 = np.array(xmax, dtype=np.float32)\n",
    "xmax = xmax0/cost"
   ]
  },
  {
   "cell_type": "code",
   "execution_count": 72,
   "metadata": {},
   "outputs": [
    {
     "data": {
      "text/plain": [
       "array([], dtype=float64)"
      ]
     },
     "execution_count": 72,
     "metadata": {},
     "output_type": "execute_result"
    }
   ],
   "source": [
    "xmax[np.where(nfile == '00456400')[0]]"
   ]
  },
  {
   "cell_type": "code",
   "execution_count": null,
   "metadata": {},
   "outputs": [],
   "source": [
    "def \n",
    "\n",
    "    nfile, nevents, zenith_angle, xmax = np.loadtxt(dst_files[0], dtype=str, unpack=True)"
   ]
  },
  {
   "cell_type": "code",
   "execution_count": 54,
   "metadata": {},
   "outputs": [],
   "source": [
    "# [(c, z, z1)for (c,z, z1)  in zip(xmax0, xmax, 1/cost)]"
   ]
  },
  {
   "cell_type": "code",
   "execution_count": 9,
   "metadata": {},
   "outputs": [],
   "source": [
    "import matplotlib.pyplot as plt"
   ]
  },
  {
   "cell_type": "code",
   "execution_count": 10,
   "metadata": {},
   "outputs": [
    {
     "data": {
      "text/plain": [
       "(array([1.051e+03, 0.000e+00, 0.000e+00, 0.000e+00, 0.000e+00, 0.000e+00,\n",
       "        0.000e+00, 0.000e+00, 0.000e+00, 0.000e+00, 0.000e+00, 0.000e+00,\n",
       "        0.000e+00, 0.000e+00, 0.000e+00, 0.000e+00, 0.000e+00, 0.000e+00,\n",
       "        0.000e+00, 0.000e+00, 0.000e+00, 0.000e+00, 0.000e+00, 0.000e+00,\n",
       "        3.000e+00, 4.200e+01, 1.710e+02, 3.920e+02, 5.860e+02, 7.890e+02,\n",
       "        8.370e+02, 8.180e+02, 6.640e+02, 4.470e+02, 2.810e+02, 1.780e+02,\n",
       "        1.030e+02, 5.600e+01, 3.000e+01, 1.600e+01, 1.400e+01, 7.000e+00,\n",
       "        3.000e+00, 3.000e+00, 1.000e+00, 0.000e+00, 0.000e+00]),\n",
       " array([   0.        ,   25.53191489,   51.06382979,   76.59574468,\n",
       "         102.12765957,  127.65957447,  153.19148936,  178.72340426,\n",
       "         204.25531915,  229.78723404,  255.31914894,  280.85106383,\n",
       "         306.38297872,  331.91489362,  357.44680851,  382.9787234 ,\n",
       "         408.5106383 ,  434.04255319,  459.57446809,  485.10638298,\n",
       "         510.63829787,  536.17021277,  561.70212766,  587.23404255,\n",
       "         612.76595745,  638.29787234,  663.82978723,  689.36170213,\n",
       "         714.89361702,  740.42553191,  765.95744681,  791.4893617 ,\n",
       "         817.0212766 ,  842.55319149,  868.08510638,  893.61702128,\n",
       "         919.14893617,  944.68085106,  970.21276596,  995.74468085,\n",
       "        1021.27659574, 1046.80851064, 1072.34042553, 1097.87234043,\n",
       "        1123.40425532, 1148.93617021, 1174.46808511, 1200.        ]),\n",
       " <BarContainer object of 47 artists>)"
      ]
     },
     "execution_count": 10,
     "metadata": {},
     "output_type": "execute_result"
    },
    {
     "data": {
      "image/png": "[encoded data removed]",
      "text/plain": [
       "<Figure size 640x480 with 1 Axes>"
      ]
     },
     "metadata": {},
     "output_type": "display_data"
    }
   ],
   "source": [
    "xmax_bins = np.linspace(0,1200,48)\n",
    "plt.hist(all_xmax, bins = xmax_bins, alpha = 0.5)\n",
    "# plt.hist(xmax, bins = xmax_bins, alpha = 0.5)\n",
    "# plt.yscale(\"log\")\n",
    "# None"
   ]
  },
  {
   "cell_type": "code",
   "execution_count": 27,
   "metadata": {},
   "outputs": [],
   "source": [
    "zenith_angle = np.array(zenith_angle, dtype=np.float32)\n",
    "cost = np.cos(zenith_angle*(np.pi/180))\n",
    "# [(c, z)for (c,z)  in zip(cost, zenith_angle)]"
   ]
  },
  {
   "cell_type": "code",
   "execution_count": 11,
   "metadata": {},
   "outputs": [
    {
     "name": "stderr",
     "output_type": "stream",
     "text": [
      "No artists with labels found to put in legend.  Note that artists whose label start with an underscore are ignored when legend() is called with no argument.\n"
     ]
    },
    {
     "data": {
      "image/png": "[encoded data removed]",
      "text/plain": [
       "<Figure size 640x480 with 1 Axes>"
      ]
     },
     "metadata": {},
     "output_type": "display_data"
    }
   ],
   "source": [
    "import numpy as np\n",
    "import matplotlib.pyplot as plt\n",
    "import sys\n",
    "\n",
    "\n",
    "# DATnnnnxx.long\n",
    "xx = \"00\"\n",
    "\n",
    "nLONG = 0\n",
    "longitudinal_num_of_particle = []\n",
    "\n",
    "DIR = \"/ceph/work/SATORI/projects/TA-ASIoP/tasdmc_dstbank/qgsii03proton/080511_230511/noCuts_HiResSpectrum/\"\n",
    "input_data = np.loadtxt(DIR + \"DATXXXX%s_xmax.txt\"%(xx))\n",
    "xmax = input_data[:,3] / np.cos(input_data[:,2] * np.pi / 180)\n",
    "\n",
    "\n",
    "xmax_bins = np.linspace(0,1200,48)\n",
    "fig = plt.figure()\n",
    "ax = fig.add_subplot(1,1,1)\n",
    "ax.hist(xmax,\n",
    "        xmax_bins,\n",
    "        histtype = \"step\")\n",
    "ax.hist(input_data[:,3], \n",
    "        xmax_bins,\n",
    "        histtype = \"step\")\n",
    "ax.legend(fontsize = 15)\n",
    "#ax.set_yscale(\"log\")\n",
    "ax.set_xlabel(r\"Xmax [g/cm$^2$]\")\n",
    "ax.set_ylabel(r\"Number of particles\")\n",
    "plt.show()"
   ]
  },
  {
   "cell_type": "code",
   "execution_count": 3,
   "metadata": {},
   "outputs": [],
   "source": [
    "import numpy as np"
   ]
  },
  {
   "cell_type": "code",
   "execution_count": 4,
   "metadata": {},
   "outputs": [],
   "source": [
    "bin_edges = np.geomspace(1, 1000, 31)"
   ]
  },
  {
   "cell_type": "code",
   "execution_count": 20,
   "metadata": {},
   "outputs": [
    {
     "data": {
      "text/plain": [
       "1.0"
      ]
     },
     "execution_count": 20,
     "metadata": {},
     "output_type": "execute_result"
    }
   ],
   "source": [
    "bin_edges[0]"
   ]
  },
  {
   "cell_type": "code",
   "execution_count": 121,
   "metadata": {},
   "outputs": [
    {
     "data": {
      "text/plain": [
       "array([  1.12976135,   1.42296007,   1.7922505 ,   2.2573802 ,\n",
       "         2.8432216 ,   3.58110215,   4.51047944,   5.68105125,\n",
       "         7.15541301,   9.01240511,  11.35132882,  14.29725633,\n",
       "        18.0077189 ,  22.68113073,  28.56739903,  35.98128756,\n",
       "        45.31924846,  57.0806222 ,  71.8943394 ,  90.55255249,\n",
       "       114.05299542, 143.65233675, 180.93337908, 227.88969817,\n",
       "       287.03224799])"
      ]
     },
     "execution_count": 121,
     "metadata": {},
     "output_type": "execute_result"
    }
   ],
   "source": [
    "(bin_edges[1:] + bin_edges[:-1])/2"
   ]
  }
 ],
 "metadata": {
  "kernelspec": {
   "display_name": "app_env_main",
   "language": "python",
   "name": "python3"
  },
  "language_info": {
   "codemirror_mode": {
    "name": "ipython",
    "version": 3
   },
   "file_extension": ".py",
   "mimetype": "text/x-python",
   "name": "python",
   "nbconvert_exporter": "python",
   "pygments_lexer": "ipython3",
   "version": "3.11.2"
  }
 },
 "nbformat": 4,
 "nbformat_minor": 2
}
