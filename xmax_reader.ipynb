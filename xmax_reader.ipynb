{
 "cells": [
  {
   "cell_type": "code",
   "execution_count": 31,
   "metadata": {},
   "outputs": [
    {
     "name": "stdout",
     "output_type": "stream",
     "text": [
      "The autoreload extension is already loaded. To reload it, use:\n",
      "  %reload_ext autoreload\n"
     ]
    }
   ],
   "source": [
    "%load_ext autoreload\n",
    "%autoreload 2\n",
    "from read_data import data_files\n",
    "from xmax_reader import XmaxReader"
   ]
  },
  {
   "cell_type": "code",
   "execution_count": 32,
   "metadata": {},
   "outputs": [],
   "source": [
    "xreader = XmaxReader()"
   ]
  },
  {
   "cell_type": "code",
   "execution_count": null,
   "metadata": {},
   "outputs": [],
   "source": [
    "xreader()"
   ]
  },
  {
   "cell_type": "code",
   "execution_count": 18,
   "metadata": {},
   "outputs": [],
   "source": [
    "from astrotools import mean_xmax\n",
    "import numpy as np"
   ]
  },
  {
   "cell_type": "code",
   "execution_count": 19,
   "metadata": {},
   "outputs": [
    {
     "name": "stdout",
     "output_type": "stream",
     "text": [
      "Hello\n",
      "-0.0\n"
     ]
    },
    {
     "data": {
      "text/plain": [
       "736.0"
      ]
     },
     "execution_count": 19,
     "metadata": {},
     "output_type": "execute_result"
    }
   ],
   "source": [
    "mean_xmax(np.log10(1e18), 1, model=\"QGSJetII\")"
   ]
  },
  {
   "cell_type": "code",
   "execution_count": 105,
   "metadata": {},
   "outputs": [],
   "source": [
    "xmax_reader = XmaxReader()"
   ]
  },
  {
   "cell_type": "code",
   "execution_count": 106,
   "metadata": {},
   "outputs": [],
   "source": [
    "path_01 = \"/ceph/work/SATORI/projects/TA-ASIoP/tasdmc_dstbank/qgsii03proton/080511_230511/noCuts_HiResSpectrum/\""
   ]
  },
  {
   "cell_type": "code",
   "execution_count": 107,
   "metadata": {},
   "outputs": [],
   "source": [
    "files = data_files(data_dir=path_01, glob_pattern=\"**/DAT*gz\")"
   ]
  },
  {
   "cell_type": "code",
   "execution_count": 110,
   "metadata": {},
   "outputs": [
    {
     "data": {
      "text/plain": [
       "844.6672"
      ]
     },
     "execution_count": 110,
     "metadata": {},
     "output_type": "execute_result"
    }
   ],
   "source": [
    "xmax_reader(files[5983])"
   ]
  },
  {
   "cell_type": "code",
   "execution_count": 111,
   "metadata": {},
   "outputs": [],
   "source": [
    "import numpy as np"
   ]
  },
  {
   "cell_type": "code",
   "execution_count": 114,
   "metadata": {},
   "outputs": [],
   "source": [
    "fff = np.zeros(10, dtype=np.float32)\n",
    "fff.fill(xmax_reader(files[583]))"
   ]
  },
  {
   "cell_type": "code",
   "execution_count": 115,
   "metadata": {},
   "outputs": [
    {
     "data": {
      "text/plain": [
       "array([690.07635, 690.07635, 690.07635, 690.07635, 690.07635, 690.07635,\n",
       "       690.07635, 690.07635, 690.07635, 690.07635], dtype=float32)"
      ]
     },
     "execution_count": 115,
     "metadata": {},
     "output_type": "execute_result"
    }
   ],
   "source": [
    "fff"
   ]
  },
  {
   "cell_type": "code",
   "execution_count": 3,
   "metadata": {},
   "outputs": [],
   "source": [
    "dst_directory = (\n",
    "        \"/ceph/work/SATORI/projects/TA-ASIoP/tasdmc_dstbank/\"\n",
    "        \"qgsii03proton/080511_230511/noCuts_HiResSpectrum/\"\n",
    "    )\n",
    "\n",
    "dst_files = data_files(\n",
    "    data_dir=dst_directory, glob_pattern=\"**/DAT*_xmax.txt\")"
   ]
  },
  {
   "cell_type": "code",
   "execution_count": 7,
   "metadata": {},
   "outputs": [],
   "source": [
    "import numpy as np"
   ]
  },
  {
   "cell_type": "code",
   "execution_count": null,
   "metadata": {},
   "outputs": [],
   "source": []
  },
  {
   "cell_type": "code",
   "execution_count": 93,
   "metadata": {},
   "outputs": [],
   "source": [
    "def file_xmax_map():\n",
    "    dst_directory = (\n",
    "        \"/ceph/work/SATORI/projects/TA-ASIoP/tasdmc_dstbank/\"\n",
    "        \"qgsii03proton/080511_230511/noCuts_HiResSpectrum/\"\n",
    "    )\n",
    "\n",
    "    dst_files = data_files(data_dir=dst_directory, glob_pattern=\"**/DAT*_xmax.txt\")\n",
    "\n",
    "    file_idx = []\n",
    "    all_xmax = []\n",
    "    for dst_file in dst_files:\n",
    "        nfile, nevents, zenith_angle, xmax = np.loadtxt(\n",
    "            dst_file, dtype=str, unpack=True\n",
    "        )\n",
    "\n",
    "        zenith_angle = np.array(zenith_angle, dtype=np.float32)\n",
    "        cost = np.cos(zenith_angle * (np.pi / 180))\n",
    "        xmax = np.array(xmax, dtype=np.float32) / cost\n",
    "        file_idx.append(nfile)\n",
    "        all_xmax.append(xmax)\n",
    "        \n",
    "    file_idx = np.concatenate(file_idx)\n",
    "    all_xmax = np.concatenate(all_xmax)\n",
    "    return file_idx, all_xmax    "
   ]
  },
  {
   "cell_type": "code",
   "execution_count": 101,
   "metadata": {},
   "outputs": [],
   "source": [
    "def xmax_val(file_idx, all_xmax, idx):\n",
    "    try:\n",
    "        return all_xmax[np.where(file_idx == idx)[0]][0]\n",
    "    except Exception:\n",
    "        return np.nan"
   ]
  },
  {
   "cell_type": "code",
   "execution_count": 25,
   "metadata": {},
   "outputs": [
    {
     "data": {
      "text/plain": [
       "25"
      ]
     },
     "execution_count": 25,
     "metadata": {},
     "output_type": "execute_result"
    }
   ],
   "source": [
    "ff = '024725'\n",
    "int(ff[-2:])"
   ]
  },
  {
   "cell_type": "code",
   "execution_count": 27,
   "metadata": {},
   "outputs": [],
   "source": [
    "aa = np.nan"
   ]
  },
  {
   "cell_type": "code",
   "execution_count": 30,
   "metadata": {},
   "outputs": [
    {
     "data": {
      "text/plain": [
       "False"
      ]
     },
     "execution_count": 30,
     "metadata": {},
     "output_type": "execute_result"
    }
   ],
   "source": [
    "aa == np.nan"
   ]
  },
  {
   "cell_type": "code",
   "execution_count": 88,
   "metadata": {},
   "outputs": [
    {
     "data": {
      "text/plain": [
       "array(['000000', '000100', '000200', ..., '024725', '024825', '024925'],\n",
       "      dtype='<U10')"
      ]
     },
     "execution_count": 88,
     "metadata": {},
     "output_type": "execute_result"
    }
   ],
   "source": [
    "file_idx, all_xmax = file_xmax_map()"
   ]
  },
  {
   "cell_type": "code",
   "execution_count": 102,
   "metadata": {},
   "outputs": [
    {
     "data": {
      "text/plain": [
       "728.74426"
      ]
     },
     "execution_count": 102,
     "metadata": {},
     "output_type": "execute_result"
    }
   ],
   "source": [
    "xmax_val(file_idx, all_xmax, \"024900\")"
   ]
  },
  {
   "cell_type": "code",
   "execution_count": 89,
   "metadata": {},
   "outputs": [
    {
     "data": {
      "text/plain": [
       "(1,)"
      ]
     },
     "execution_count": 89,
     "metadata": {},
     "output_type": "execute_result"
    }
   ],
   "source": [
    "np.where(file_idx == '024900')[0].shape"
   ]
  },
  {
   "cell_type": "code",
   "execution_count": 91,
   "metadata": {},
   "outputs": [
    {
     "data": {
      "text/plain": [
       "array([908.0149], dtype=float32)"
      ]
     },
     "execution_count": 91,
     "metadata": {},
     "output_type": "execute_result"
    }
   ],
   "source": [
    "all_xmax[np.where(file_idx == '007700')[0]]"
   ]
  },
  {
   "cell_type": "code",
   "execution_count": 60,
   "metadata": {},
   "outputs": [],
   "source": [
    "zenith_angle = np.array(zenith_angle, dtype=np.float32)\n",
    "cost = np.cos(zenith_angle*(np.pi/180))\n",
    "xmax0 = np.array(xmax, dtype=np.float32)\n",
    "xmax = xmax0/cost"
   ]
  },
  {
   "cell_type": "code",
   "execution_count": 72,
   "metadata": {},
   "outputs": [
    {
     "data": {
      "text/plain": [
       "array([], dtype=float64)"
      ]
     },
     "execution_count": 72,
     "metadata": {},
     "output_type": "execute_result"
    }
   ],
   "source": [
    "xmax[np.where(nfile == '00456400')[0]]"
   ]
  },
  {
   "cell_type": "code",
   "execution_count": null,
   "metadata": {},
   "outputs": [],
   "source": [
    "def \n",
    "\n",
    "    nfile, nevents, zenith_angle, xmax = np.loadtxt(dst_files[0], dtype=str, unpack=True)"
   ]
  },
  {
   "cell_type": "code",
   "execution_count": 54,
   "metadata": {},
   "outputs": [],
   "source": [
    "# [(c, z, z1)for (c,z, z1)  in zip(xmax0, xmax, 1/cost)]"
   ]
  },
  {
   "cell_type": "code",
   "execution_count": 61,
   "metadata": {},
   "outputs": [],
   "source": [
    "import matplotlib.pyplot as plt"
   ]
  },
  {
   "cell_type": "code",
   "execution_count": 66,
   "metadata": {},
   "outputs": [
    {
     "data": {
      "image/png": "[encoded data removed]",
      "text/plain": [
       "<Figure size 640x480 with 1 Axes>"
      ]
     },
     "metadata": {},
     "output_type": "display_data"
    }
   ],
   "source": [
    "xmax_bins = np.linspace(0,1200,48)\n",
    "plt.hist(xmax0, bins = xmax_bins, alpha = 0.5)\n",
    "plt.hist(xmax, bins = xmax_bins, alpha = 0.5)\n",
    "# plt.yscale(\"log\")\n",
    "None"
   ]
  },
  {
   "cell_type": "code",
   "execution_count": 27,
   "metadata": {},
   "outputs": [],
   "source": [
    "zenith_angle = np.array(zenith_angle, dtype=np.float32)\n",
    "cost = np.cos(zenith_angle*(np.pi/180))\n",
    "# [(c, z)for (c,z)  in zip(cost, zenith_angle)]"
   ]
  },
  {
   "cell_type": "code",
   "execution_count": 64,
   "metadata": {},
   "outputs": [
    {
     "name": "stderr",
     "output_type": "stream",
     "text": [
      "No artists with labels found to put in legend.  Note that artists whose label start with an underscore are ignored when legend() is called with no argument.\n"
     ]
    },
    {
     "data": {
      "image/png": "[encoded data removed]",
      "text/plain": [
       "<Figure size 640x480 with 1 Axes>"
      ]
     },
     "metadata": {},
     "output_type": "display_data"
    }
   ],
   "source": [
    "import numpy as np\n",
    "import matplotlib.pyplot as plt\n",
    "import sys\n",
    "\n",
    "\n",
    "# DATnnnnxx.long\n",
    "xx = \"00\"\n",
    "\n",
    "nLONG = 0\n",
    "longitudinal_num_of_particle = []\n",
    "\n",
    "DIR = \"/ceph/work/SATORI/projects/TA-ASIoP/tasdmc_dstbank/qgsii03proton/080511_230511/noCuts_HiResSpectrum/\"\n",
    "input_data = np.loadtxt(DIR + \"DATXXXX%s_xmax.txt\"%(xx))\n",
    "xmax = input_data[:,3] / np.cos(input_data[:,2] * np.pi / 180)\n",
    "\n",
    "\n",
    "xmax_bins = np.linspace(0,1200,48)\n",
    "fig = plt.figure()\n",
    "ax = fig.add_subplot(1,1,1)\n",
    "ax.hist(xmax,\n",
    "        xmax_bins,\n",
    "        histtype = \"step\")\n",
    "ax.hist(input_data[:,3], \n",
    "        xmax_bins,\n",
    "        histtype = \"step\")\n",
    "ax.legend(fontsize = 15)\n",
    "#ax.set_yscale(\"log\")\n",
    "ax.set_xlabel(r\"Xmax [g/cm$^2$]\")\n",
    "ax.set_ylabel(r\"Number of particles\")\n",
    "plt.show()"
   ]
  },
  {
   "cell_type": "code",
   "execution_count": 3,
   "metadata": {},
   "outputs": [],
   "source": [
    "import numpy as np"
   ]
  },
  {
   "cell_type": "code",
   "execution_count": 4,
   "metadata": {},
   "outputs": [],
   "source": [
    "bin_edges = np.geomspace(1, 1000, 31)"
   ]
  },
  {
   "cell_type": "code",
   "execution_count": 20,
   "metadata": {},
   "outputs": [
    {
     "data": {
      "text/plain": [
       "1.0"
      ]
     },
     "execution_count": 20,
     "metadata": {},
     "output_type": "execute_result"
    }
   ],
   "source": [
    "bin_edges[0]"
   ]
  },
  {
   "cell_type": "code",
   "execution_count": 121,
   "metadata": {},
   "outputs": [
    {
     "data": {
      "text/plain": [
       "array([  1.12976135,   1.42296007,   1.7922505 ,   2.2573802 ,\n",
       "         2.8432216 ,   3.58110215,   4.51047944,   5.68105125,\n",
       "         7.15541301,   9.01240511,  11.35132882,  14.29725633,\n",
       "        18.0077189 ,  22.68113073,  28.56739903,  35.98128756,\n",
       "        45.31924846,  57.0806222 ,  71.8943394 ,  90.55255249,\n",
       "       114.05299542, 143.65233675, 180.93337908, 227.88969817,\n",
       "       287.03224799])"
      ]
     },
     "execution_count": 121,
     "metadata": {},
     "output_type": "execute_result"
    }
   ],
   "source": [
    "(bin_edges[1:] + bin_edges[:-1])/2"
   ]
  }
 ],
 "metadata": {
  "kernelspec": {
   "display_name": "app_env_main",
   "language": "python",
   "name": "python3"
  },
  "language_info": {
   "codemirror_mode": {
    "name": "ipython",
    "version": 3
   },
   "file_extension": ".py",
   "mimetype": "text/x-python",
   "name": "python",
   "nbconvert_exporter": "python",
   "pygments_lexer": "ipython3",
   "version": "3.11.2"
  }
 },
 "nbformat": 4,
 "nbformat_minor": 2
}
