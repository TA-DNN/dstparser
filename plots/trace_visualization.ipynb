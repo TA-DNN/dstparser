{
 "cells": [
  {
   "cell_type": "code",
   "execution_count": null,
   "metadata": {},
   "outputs": [],
   "source": [
    "%load_ext autoreload\n",
    "%autoreload 2\n",
    "import numpy as np\n",
    "from srecog.loaders.read_data import data_files\n",
    "from srecog.utils.hdf5_utils import read_hdf5_metadata\n",
    "from tile_movie import (\n",
    "    read_time_traces,\n",
    "    extend_time_traces,\n",
    "    tile_signal_movie,\n",
    "    plot_time_series,\n",
    "    event_title,\n",
    ")"
   ]
  },
  {
   "cell_type": "code",
   "execution_count": null,
   "metadata": {},
   "outputs": [],
   "source": [
    "data_dir = \"/ceph/work/SATORI/projects/TA-ASIoP/dnn_training_data/2024/03/01_TA_dst/02_uplow_traces9x9/results/proc\"\n",
    "proc_files = data_files(data_dir=data_dir, glob_pattern=\"**/DAT*.h5\")"
   ]
  },
  {
   "cell_type": "code",
   "execution_count": null,
   "metadata": {},
   "outputs": [],
   "source": [
    "data_file = \"/ceph/work/SATORI/projects/TA-ASIoP/dnn_training_data/2024/03/01_TA_dst/02_uplow_traces9x9/results/proc/XXXX25/DAT024725.h5\"\n",
    "read_hdf5_metadata(data_file)"
   ]
  },
  {
   "cell_type": "code",
   "execution_count": null,
   "metadata": {},
   "outputs": [],
   "source": [
    "tile_signal_movie(data_file=proc_files[len(proc_files) - 3],\n",
    "                  event_idx=0,\n",
    "                  time_slice=slice(None),\n",
    "                  cmap=\"Blues\"\n",
    "                  )"
   ]
  },
  {
   "cell_type": "code",
   "execution_count": null,
   "metadata": {},
   "outputs": [],
   "source": [
    "data_file = proc_files[4500]\n",
    "data = read_time_traces(data_file, event_idx=2)\n",
    "arrival_times = data[\"arrival_times\"]\n",
    "time_traces = data[\"time_traces\"]\n",
    "detector_states = data[\"detector_states\"]\n",
    "time_traces_long = extend_time_traces(arrival_times, time_traces)"
   ]
  },
  {
   "cell_type": "code",
   "execution_count": null,
   "metadata": {},
   "outputs": [],
   "source": [
    "plot_time_series(arrival_times, time_traces_long)"
   ]
  }
 ],
 "metadata": {
  "kernelspec": {
   "display_name": "app_env_main",
   "language": "python",
   "name": "python3"
  },
  "language_info": {
   "codemirror_mode": {
    "name": "ipython",
    "version": 3
   },
   "file_extension": ".py",
   "mimetype": "text/x-python",
   "name": "python",
   "nbconvert_exporter": "python",
   "pygments_lexer": "ipython3",
   "version": "3.11.2"
  }
 },
 "nbformat": 4,
 "nbformat_minor": 2
}
