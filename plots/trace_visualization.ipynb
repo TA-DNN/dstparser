{
 "cells": [
  {
   "cell_type": "code",
   "execution_count": null,
   "metadata": {},
   "outputs": [],
   "source": [
    "%load_ext autoreload\n",
    "%autoreload 2\n",
    "import numpy as np\n",
    "from srecog.loaders.read_data import data_files\n",
    "from srecog.loaders.split_data import shuffled_indices\n",
    "from srecog.loaders.read_data import print_data_info\n",
    "from srecog.utils.hdf5_utils import read_hdf5_metadata, arrays_from_file, dict_from_file\n",
    "from tile_movie import (\n",
    "    extend_time_traces,\n",
    "    tile_signal_movie,\n",
    "    plot_time_series,\n",
    ")"
   ]
  },
  {
   "cell_type": "code",
   "execution_count": null,
   "metadata": {},
   "outputs": [],
   "source": [
    "data_file = \"/ceph/work/SATORI/projects/TA-ASIoP/dnn_training_data/2024/02/11_comb_invest/240223_n1e6_el1_56_sph_car1200_e1185205_eposc.h5\"\n",
    "meta_data = read_hdf5_metadata(data_file)\n",
    "meta_data"
   ]
  },
  {
   "cell_type": "code",
   "execution_count": null,
   "metadata": {},
   "outputs": [],
   "source": [
    "data_file = \"/ceph/work/SATORI/projects/TA-ASIoP/dnn_training_data/2024/02/11_comb_invest/240223_n1e6_el1_56_sph_car1200_e1185205_eposc.h5\"\n",
    "out_dir = \"/ceph/work/SATORI/antonpr/ml/erdmann/dstparser/output/02_tvisual9\"\n",
    "tile_signal_movie(\n",
    "    data_file=data_file,\n",
    "    event_idx=9909,\n",
    "    time_slice=slice(None),\n",
    "    cmap=\"Blues\",\n",
    "    out_dir=out_dir,\n",
    "    in_file_format=\"TOY\"\n",
    ")"
   ]
  },
  {
   "cell_type": "code",
   "execution_count": null,
   "metadata": {},
   "outputs": [],
   "source": [
    "array_names = []\n",
    "for key in meta_data:\n",
    "    if key not in [\"file\", \"settings\", \"detector\"]:\n",
    "        array_names.append(key)\n",
    "\n",
    "idxs = slice(0, 1)\n",
    "original_data = dict_from_file(data_file, array_names, indices=idxs)      \n",
    "        "
   ]
  },
  {
   "cell_type": "code",
   "execution_count": null,
   "metadata": {},
   "outputs": [],
   "source": [
    "[original_data.keys()]"
   ]
  },
  {
   "cell_type": "code",
   "execution_count": null,
   "metadata": {},
   "outputs": [],
   "source": [
    "data = dict()\n",
    "data[\"arrival_times\"] = original_data[\"detector_readings\"][:,:,:,0]\n",
    "data[\"time_traces\"] = original_data[\"time_traces\"][:,:,:,:]\n",
    "data[\"energy\"] =  original_data[\"energy\"]\n",
    "data[\"xmax\"] =  original_data[\"xmax\"]\n",
    "data[\"shower_axis\"] = original_data[\"showeraxis\"]\n",
    "data[\"shower_core\"] = original_data[\"showercore\"]\n",
    "data[\"detector_positions\"] = arrays_from_file(data_file, \"detector\").reshape(9, 9, 3)/(4*1200)\n",
    "data[\"detector_states\"] = np.ones((9, 9), dtype=bool)\n",
    "\n",
    "for key, value in data.items():\n",
    "    data[key] = value.squeeze()\n"
   ]
  },
  {
   "cell_type": "code",
   "execution_count": null,
   "metadata": {},
   "outputs": [],
   "source": []
  },
  {
   "cell_type": "code",
   "execution_count": null,
   "metadata": {},
   "outputs": [],
   "source": [
    "print_data_info(data)"
   ]
  },
  {
   "cell_type": "code",
   "execution_count": null,
   "metadata": {},
   "outputs": [],
   "source": [
    "data[\"detector_positions\"]\n",
    "None"
   ]
  },
  {
   "cell_type": "code",
   "execution_count": null,
   "metadata": {},
   "outputs": [],
   "source": [
    "data[\"arrival_times\"][:,:,:]"
   ]
  },
  {
   "cell_type": "code",
   "execution_count": null,
   "metadata": {},
   "outputs": [],
   "source": [
    "data = dict()\n",
    "\n",
    "data[\"arrival_times\"] = arrays_from_file(data_file, \"detector_readings\", indices=slice(0, 1))\n",
    "\n",
    "\n",
    "all_arrays = [\n",
    "        \"arrival_times\",\n",
    "        \"detector_positions\",\n",
    "        \"detector_states\",\n",
    "        \"energy\",\n",
    "        \"mass_number\",\n",
    "        \"metadata\",\n",
    "        \"shower_axis\",\n",
    "        \"shower_core\",\n",
    "        \"time_traces\",\n",
    "        \"time_traces_low\",\n",
    "        \"time_traces_up\",\n",
    "        \"xmax\",\n",
    "    ]"
   ]
  },
  {
   "cell_type": "code",
   "execution_count": null,
   "metadata": {},
   "outputs": [],
   "source": [
    "data_dir = \"/ceph/work/SATORI/projects/TA-ASIoP/dnn_training_data/2024/03/01_TA_dst/02_uplow_traces9x9/results/proc\"\n",
    "proc_files = data_files(data_dir=data_dir, glob_pattern=\"**/DAT*.h5\")"
   ]
  },
  {
   "cell_type": "code",
   "execution_count": null,
   "metadata": {},
   "outputs": [],
   "source": [
    "data_file = proc_files[2]\n",
    "read_hdf5_metadata(data_file)"
   ]
  },
  {
   "cell_type": "code",
   "execution_count": null,
   "metadata": {},
   "outputs": [],
   "source": [
    "plot_time_series()"
   ]
  },
  {
   "cell_type": "code",
   "execution_count": null,
   "metadata": {},
   "outputs": [],
   "source": [
    "def choose_max_ind(data_file, max_events = 10):\n",
    "    shapes = read_hdf5_metadata(data_file)\n",
    "    data_length = shapes[\"energy\"][\"shape\"][0]\n",
    "    # print(data_length)\n",
    "    num_events = min(max_events, data_length)\n",
    "\n",
    "    return shuffled_indices(data_length, seed=1)[:num_events]\n",
    "    "
   ]
  },
  {
   "cell_type": "code",
   "execution_count": null,
   "metadata": {},
   "outputs": [],
   "source": [
    "choose_max_ind(proc_files[2])"
   ]
  },
  {
   "cell_type": "code",
   "execution_count": null,
   "metadata": {},
   "outputs": [],
   "source": [
    "out_dir = \"/ceph/work/SATORI/antonpr/ml/erdmann/dstparser/output/02_tvisual8\"\n",
    "tile_signal_movie(data_file=proc_files[-3],\n",
    "                  event_idx=0,\n",
    "                  time_slice=slice(None),\n",
    "                  cmap=\"Blues\",\n",
    "                  out_dir=out_dir,\n",
    "                  )"
   ]
  },
  {
   "cell_type": "code",
   "execution_count": null,
   "metadata": {},
   "outputs": [],
   "source": [
    "data_file = proc_files[4500]\n",
    "data = read_time_traces(data_file, event_idx=2)\n",
    "arrival_times = data[\"arrival_times\"]\n",
    "time_traces = data[\"time_traces\"]\n",
    "detector_states = data[\"detector_states\"]\n",
    "time_traces_long = extend_time_traces(arrival_times, time_traces)"
   ]
  },
  {
   "cell_type": "code",
   "execution_count": null,
   "metadata": {},
   "outputs": [],
   "source": [
    "plot_time_series(arrival_times, time_traces_long)"
   ]
  }
 ],
 "metadata": {
  "kernelspec": {
   "display_name": "app_env_main",
   "language": "python",
   "name": "python3"
  },
  "language_info": {
   "codemirror_mode": {
    "name": "ipython",
    "version": 3
   },
   "file_extension": ".py",
   "mimetype": "text/x-python",
   "name": "python",
   "nbconvert_exporter": "python",
   "pygments_lexer": "ipython3",
   "version": "3.11.2"
  }
 },
 "nbformat": 4,
 "nbformat_minor": 2
}
