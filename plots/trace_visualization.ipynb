{
 "cells": [
  {
   "cell_type": "code",
   "execution_count": 1,
   "metadata": {},
   "outputs": [],
   "source": [
    "%load_ext autoreload\n",
    "%autoreload 2\n",
    "import numpy as np\n",
    "from srecog.loaders.read_data import data_files\n",
    "from srecog.loaders.split_data import shuffled_indices\n",
    "from srecog.utils.hdf5_utils import read_hdf5_metadata\n",
    "from tile_movie import (\n",
    "    read_time_traces,\n",
    "    extend_time_traces,\n",
    "    tile_signal_movie,\n",
    "    plot_time_series,\n",
    "    event_title,\n",
    ")"
   ]
  },
  {
   "cell_type": "code",
   "execution_count": 2,
   "metadata": {},
   "outputs": [],
   "source": [
    "data_dir = \"/ceph/work/SATORI/projects/TA-ASIoP/dnn_training_data/2024/03/01_TA_dst/02_uplow_traces9x9/results/proc\"\n",
    "proc_files = data_files(data_dir=data_dir, glob_pattern=\"**/DAT*.h5\")"
   ]
  },
  {
   "cell_type": "code",
   "execution_count": 3,
   "metadata": {},
   "outputs": [
    {
     "data": {
      "text/plain": [
       "{'file': '/ceph/work/SATORI/projects/TA-ASIoP/dnn_training_data/2024/03/01_TA_dst/02_uplow_traces9x9/results/proc/XXXX00/DAT000200.h5',\n",
       " 'arrival_times': {'shape': (4022, 9, 9)},\n",
       " 'detector_positions': {'shape': (4022, 9, 9, 3)},\n",
       " 'detector_states': {'shape': (4022, 9, 9)},\n",
       " 'energy': {'shape': (4022,)},\n",
       " 'mass_number': {'shape': (4022,)},\n",
       " 'metadata': {'shape': ()},\n",
       " 'shower_axis': {'shape': (4022, 3)},\n",
       " 'shower_core': {'shape': (4022, 3)},\n",
       " 'time_traces': {'shape': (4022, 9, 9, 128)},\n",
       " 'time_traces_low': {'shape': (4022, 9, 9, 128)},\n",
       " 'time_traces_up': {'shape': (4022, 9, 9, 128)},\n",
       " 'xmax': {'shape': (4022,)}}"
      ]
     },
     "execution_count": 3,
     "metadata": {},
     "output_type": "execute_result"
    }
   ],
   "source": [
    "data_file = proc_files[2]\n",
    "read_hdf5_metadata(data_file)"
   ]
  },
  {
   "cell_type": "code",
   "execution_count": null,
   "metadata": {},
   "outputs": [],
   "source": [
    "def choose_max_ind(data_file, max_events = 10):\n",
    "    shapes = read_hdf5_metadata(data_file)\n",
    "    data_length = shapes[\"energy\"][\"shape\"][0]\n",
    "    # print(data_length)\n",
    "    num_events = min(max_events, data_length)\n",
    "\n",
    "    return shuffled_indices(data_length, seed=1)[:num_events]\n",
    "    "
   ]
  },
  {
   "cell_type": "code",
   "execution_count": 4,
   "metadata": {},
   "outputs": [
    {
     "ename": "NameError",
     "evalue": "name 'choose_max_ind' is not defined",
     "output_type": "error",
     "traceback": [
      "\u001b[0;31m---------------------------------------------------------------------------\u001b[0m",
      "\u001b[0;31mNameError\u001b[0m                                 Traceback (most recent call last)",
      "Cell \u001b[0;32mIn[4], line 1\u001b[0m\n\u001b[0;32m----> 1\u001b[0m choose_max_ind(proc_files[\u001b[38;5;241m2\u001b[39m])\n",
      "\u001b[0;31mNameError\u001b[0m: name 'choose_max_ind' is not defined"
     ]
    }
   ],
   "source": [
    "choose_max_ind(proc_files[2])"
   ]
  },
  {
   "cell_type": "code",
   "execution_count": null,
   "metadata": {},
   "outputs": [],
   "source": [
    "out_dir = \"/ceph/work/SATORI/antonpr/ml/erdmann/dstparser/output/02_tvisual7\"\n",
    "tile_signal_movie(data_file=proc_files[-3],\n",
    "                  event_idx=0,\n",
    "                  time_slice=slice(None),\n",
    "                  cmap=\"Blues\",\n",
    "                  out_dir=out_dir,\n",
    "                  )"
   ]
  },
  {
   "cell_type": "code",
   "execution_count": null,
   "metadata": {},
   "outputs": [],
   "source": [
    "data_file = proc_files[4500]\n",
    "data = read_time_traces(data_file, event_idx=2)\n",
    "arrival_times = data[\"arrival_times\"]\n",
    "time_traces = data[\"time_traces\"]\n",
    "detector_states = data[\"detector_states\"]\n",
    "time_traces_long = extend_time_traces(arrival_times, time_traces)"
   ]
  },
  {
   "cell_type": "code",
   "execution_count": null,
   "metadata": {},
   "outputs": [],
   "source": [
    "plot_time_series(arrival_times, time_traces_long)"
   ]
  },
  {
   "cell_type": "code",
   "execution_count": null,
   "metadata": {},
   "outputs": [],
   "source": [
    "import numpy as np\n",
    "import matplotlib.pyplot as plt\n",
    "\n",
    "# Create a sample 2D array with different dimensions\n",
    "nx = 10\n",
    "ny = 3\n",
    "V = np.random.rand(ny, nx)  # Generating random values for visualization\n",
    "\n",
    "# Plotting using imshow\n",
    "plt.imshow(V)\n",
    "plt.colorbar()  # Add colorbar for reference\n",
    "plt.xlabel('X-axis')\n",
    "plt.ylabel('Y-axis')\n",
    "plt.title('imshow() Test Example')\n",
    "plt.show()\n"
   ]
  }
 ],
 "metadata": {
  "kernelspec": {
   "display_name": "app_env_main",
   "language": "python",
   "name": "python3"
  },
  "language_info": {
   "codemirror_mode": {
    "name": "ipython",
    "version": 3
   },
   "file_extension": ".py",
   "mimetype": "text/x-python",
   "name": "python",
   "nbconvert_exporter": "python",
   "pygments_lexer": "ipython3",
   "version": "3.11.2"
  }
 },
 "nbformat": 4,
 "nbformat_minor": 2
}
