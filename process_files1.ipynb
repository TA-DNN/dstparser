{
 "cells": [
  {
   "cell_type": "code",
   "execution_count": 3,
   "metadata": {},
   "outputs": [],
   "source": [
    "from tqdm import tqdm\n",
    "import numpy as np\n",
    "from dst_parsers import parse_dst_file\n",
    "from read_data import data_files\n",
    "from srecog.utils.hdf5_utils import save_dict_to_hdf5\n",
    "from pathlib import Path\n"
   ]
  },
  {
   "cell_type": "code",
   "execution_count": 9,
   "metadata": {},
   "outputs": [
    {
     "ename": "SyntaxError",
     "evalue": "cannot assign to literal here. Maybe you meant '==' instead of '='? (sdanalysis_env.sh, line 4)",
     "output_type": "error",
     "traceback": [
      "\u001b[0;36m  File \u001b[0;32m/ceph/sharedfs/work/SATORI/projects/TA-ASIoP/sdanalysis_2018_TALE_TAx4SingleCT_DM/antonpr/dstparser/src/dstparser/sdanalysis_env.sh:4\u001b[0;36m\u001b[0m\n\u001b[0;31m    if [ \"x${BASH_ARGV[0]}\" = \"x\" ]; then\u001b[0m\n\u001b[0m         ^\u001b[0m\n\u001b[0;31mSyntaxError\u001b[0m\u001b[0;31m:\u001b[0m cannot assign to literal here. Maybe you meant '==' instead of '='?\n"
     ]
    }
   ],
   "source": [
    "%run /ceph/work/SATORI/projects/TA-ASIoP/sdanalysis_2018_TALE_TAx4SingleCT_DM/antonpr/dstparser/src/dstparser/sdanalysis_env.sh"
   ]
  },
  {
   "cell_type": "code",
   "execution_count": 5,
   "metadata": {},
   "outputs": [],
   "source": [
    "# from dstParser import parse_script\n",
    "\n",
    "dst_directory = (\n",
    "    \"/ceph/work/SATORI/projects/TA-ASIoP/tasdmc_dstbank/\"\n",
    "    \"qgsii03proton/080511_230511/noCuts_HiResSpectrum/\"\n",
    ")\n",
    "\n",
    "\n",
    "dst_files = data_files(data_dir=dst_directory, glob_pattern=\"**/DAT*noCuts.dst.gz\")\n",
    "\n",
    "# data = parse_dst_file(str(dst_files[0]))\n"
   ]
  },
  {
   "cell_type": "code",
   "execution_count": 7,
   "metadata": {},
   "outputs": [
    {
     "ename": "IndexError",
     "evalue": "index 0 is out of bounds for axis 0 with size 0",
     "output_type": "error",
     "traceback": [
      "\u001b[0;31m---------------------------------------------------------------------------\u001b[0m",
      "\u001b[0;31mIndexError\u001b[0m                                Traceback (most recent call last)",
      "Cell \u001b[0;32mIn[7], line 1\u001b[0m\n\u001b[0;32m----> 1\u001b[0m parse_dst_file(\u001b[38;5;28mstr\u001b[39m(dst_files[\u001b[38;5;241m0\u001b[39m]))\n",
      "File \u001b[0;32m/ceph/sharedfs/work/SATORI/projects/TA-ASIoP/sdanalysis_2018_TALE_TAx4SingleCT_DM/antonpr/dstparser/src/dstparser/dst_parsers.py:298\u001b[0m, in \u001b[0;36mparse_dst_file\u001b[0;34m(dst_file)\u001b[0m\n\u001b[1;32m    296\u001b[0m data \u001b[38;5;241m=\u001b[39m \u001b[38;5;28mdict\u001b[39m()\n\u001b[1;32m    297\u001b[0m data \u001b[38;5;241m=\u001b[39m fill_metadata(data, dst_file)\n\u001b[0;32m--> 298\u001b[0m data \u001b[38;5;241m=\u001b[39m shower_params(event_list_str, data)\n\u001b[1;32m    300\u001b[0m ntile \u001b[38;5;241m=\u001b[39m \u001b[38;5;241m7\u001b[39m  \u001b[38;5;66;03m# number of SD per one side\u001b[39;00m\n\u001b[1;32m    301\u001b[0m ntime_trace \u001b[38;5;241m=\u001b[39m \u001b[38;5;241m128\u001b[39m  \u001b[38;5;66;03m# number of time trace of waveform\u001b[39;00m\n",
      "File \u001b[0;32m/ceph/sharedfs/work/SATORI/projects/TA-ASIoP/sdanalysis_2018_TALE_TAx4SingleCT_DM/antonpr/dstparser/src/dstparser/dst_parsers.py:88\u001b[0m, in \u001b[0;36mshower_params\u001b[0;34m(event_list_str, data)\u001b[0m\n\u001b[1;32m     73\u001b[0m \u001b[38;5;250m\u001b[39m\u001b[38;5;124;03m\"\"\"\u001b[39;00m\n\u001b[1;32m     74\u001b[0m \u001b[38;5;124;03mevent_format = [\"mass_number\",\u001b[39;00m\n\u001b[1;32m     75\u001b[0m \u001b[38;5;124;03m                \"rusdmc_energy\",\u001b[39;00m\n\u001b[0;32m   (...)\u001b[0m\n\u001b[1;32m     84\u001b[0m \u001b[38;5;124;03m                \"rusdraw_nofwf\"]\u001b[39;00m\n\u001b[1;32m     85\u001b[0m \u001b[38;5;124;03m\"\"\"\u001b[39;00m\n\u001b[1;32m     87\u001b[0m event_list \u001b[38;5;241m=\u001b[39m np\u001b[38;5;241m.\u001b[39marray(event_list)\u001b[38;5;241m.\u001b[39mastype(np\u001b[38;5;241m.\u001b[39mfloat32)\u001b[38;5;241m.\u001b[39mtranspose()\n\u001b[0;32m---> 88\u001b[0m data[\u001b[38;5;124m\"\u001b[39m\u001b[38;5;124mmass_number\u001b[39m\u001b[38;5;124m\"\u001b[39m] \u001b[38;5;241m=\u001b[39m CORSIKAparticleID2mass(event_list[\u001b[38;5;241m0\u001b[39m])\n\u001b[1;32m     89\u001b[0m data[\u001b[38;5;124m\"\u001b[39m\u001b[38;5;124menergy\u001b[39m\u001b[38;5;124m\"\u001b[39m] \u001b[38;5;241m=\u001b[39m event_list[\u001b[38;5;241m1\u001b[39m]\n\u001b[1;32m     90\u001b[0m data[\u001b[38;5;124m\"\u001b[39m\u001b[38;5;124mxmax\u001b[39m\u001b[38;5;124m\"\u001b[39m] \u001b[38;5;241m=\u001b[39m np\u001b[38;5;241m.\u001b[39mzeros(event_list\u001b[38;5;241m.\u001b[39mshape[\u001b[38;5;241m1\u001b[39m], dtype\u001b[38;5;241m=\u001b[39mnp\u001b[38;5;241m.\u001b[39mfloat32)\n",
      "\u001b[0;31mIndexError\u001b[0m: index 0 is out of bounds for axis 0 with size 0"
     ]
    }
   ],
   "source": [
    "parse_dst_file(str(dst_files[0]))"
   ]
  },
  {
   "cell_type": "code",
   "execution_count": null,
   "metadata": {},
   "outputs": [],
   "source": [
    "\n",
    "\n",
    "\n",
    "infile = dst_files[60]\n",
    "outdir = Path(\"/dicos_ui_home/antonpr/ml/erdmann/generated_data/12_dst_TA/01_test\")\n",
    "outfile = str(infile.name).split(sep=\"_\")[0] + \".h5\"\n",
    "outfile = outdir/outfile\n",
    "\n",
    "data = parse_dst_file(str(infile))\n",
    "\n",
    "print(outfile)\n",
    "save_dict_to_hdf5(outfile, data, compress=None)"
   ]
  }
 ],
 "metadata": {
  "kernelspec": {
   "display_name": "env_main",
   "language": "python",
   "name": "python3"
  },
  "language_info": {
   "codemirror_mode": {
    "name": "ipython",
    "version": 3
   },
   "file_extension": ".py",
   "mimetype": "text/x-python",
   "name": "python",
   "nbconvert_exporter": "python",
   "pygments_lexer": "ipython3",
   "version": "3.11.2"
  }
 },
 "nbformat": 4,
 "nbformat_minor": 2
}
